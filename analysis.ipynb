{
 "cells": [
  {
   "cell_type": "code",
   "execution_count": 1,
   "metadata": {},
   "outputs": [
    {
     "name": "stdout",
     "output_type": "stream",
     "text": [
      "Welcome to JupyROOT 6.18/04\n"
     ]
    }
   ],
   "source": [
    "import ROOT\n",
    "import numpy as np\n",
    "from array import array\n",
    "import matplotlib.pyplot as plt\n",
    "%matplotlib inline"
   ]
  },
  {
   "cell_type": "code",
   "execution_count": 2,
   "metadata": {},
   "outputs": [],
   "source": [
    "# def makeTree(old_data, timesteps):\n",
    "#     v_amp = array('v_amp', [0])\n",
    "#     t = array('t', [0])\n",
    "#     tree = ROOT.TTree('tree','tree')\n",
    "#     tree.Branch('v_amp',v_amp)\n",
    "#     tree.Branch('t',t)\n",
    "#     for i in range(old_data.size):\n",
    "#         v_amp = old_data[i]\n",
    "#         t = timesteps[i]\n",
    "#         tree.Fill()\n",
    "#     return tree"
   ]
  },
  {
   "cell_type": "code",
   "execution_count": null,
   "metadata": {},
   "outputs": [],
   "source": []
  },
  {
   "cell_type": "code",
   "execution_count": 3,
   "metadata": {},
   "outputs": [
    {
     "data": {
      "text/plain": [
       "True"
      ]
     },
     "execution_count": 3,
     "metadata": {},
     "output_type": "execute_result"
    }
   ],
   "source": [
    "ROOT.gInterpreter.Declare(\"\"\"\n",
    "//#include <TH1F.h>\n",
    "void plothist(const std::vector<float> &ch1_data, const std::vector<float> &timesteps)\n",
    "{\n",
    "    auto hist_ch1 = new TH1F(\"h1\", \"test histo\", ch1_data.size(), 0, 0.2);\n",
    "    for (int i = 0; i < ch1_data.size(); ++i)\n",
    "    {\n",
    "        hist_ch1->SetBinContent(hist_ch1->GetBin(i), ch1_data[i]);\n",
    "    }\n",
    "    hist_ch1->Draw(\"L\");\n",
    "}\"\"\")"
   ]
  },
  {
   "cell_type": "code",
   "execution_count": 4,
   "metadata": {},
   "outputs": [],
   "source": [
    "# ROOT.gInterpreter.Declare('#include \"fit_tree.hxx\"')"
   ]
  },
  {
   "cell_type": "code",
   "execution_count": 5,
   "metadata": {},
   "outputs": [
    {
     "ename": "TypeError",
     "evalue": "can not resolve method template call for 'Foreach'",
     "output_type": "error",
     "traceback": [
      "\u001b[0;31m---------------------------------------------------------------------------\u001b[0m",
      "\u001b[0;31mTypeError\u001b[0m                                 Traceback (most recent call last)",
      "\u001b[0;32m<ipython-input-5-234820d84d87>\u001b[0m in \u001b[0;36m<module>\u001b[0;34m\u001b[0m\n\u001b[1;32m      2\u001b[0m \u001b[0mdf\u001b[0m \u001b[0;34m=\u001b[0m \u001b[0mRDF\u001b[0m\u001b[0;34m(\u001b[0m\u001b[0;34m\"subrange\"\u001b[0m\u001b[0;34m,\u001b[0m \u001b[0;34m\"clean_data.root\"\u001b[0m\u001b[0;34m)\u001b[0m\u001b[0;34m\u001b[0m\u001b[0;34m\u001b[0m\u001b[0m\n\u001b[1;32m      3\u001b[0m \u001b[0mdf_02\u001b[0m \u001b[0;34m=\u001b[0m \u001b[0mdf\u001b[0m\u001b[0;34m.\u001b[0m\u001b[0mRange\u001b[0m\u001b[0;34m(\u001b[0m\u001b[0;36m0\u001b[0m\u001b[0;34m,\u001b[0m \u001b[0;36m1\u001b[0m\u001b[0;34m)\u001b[0m\u001b[0;34m\u001b[0m\u001b[0;34m\u001b[0m\u001b[0m\n\u001b[0;32m----> 4\u001b[0;31m \u001b[0mdf_02\u001b[0m\u001b[0;34m.\u001b[0m\u001b[0mForeach\u001b[0m\u001b[0;34m(\u001b[0m\u001b[0mROOT\u001b[0m\u001b[0;34m.\u001b[0m\u001b[0mplothist\u001b[0m\u001b[0;34m,\u001b[0m \u001b[0;34m{\u001b[0m\u001b[0;34m'ch2_sub'\u001b[0m\u001b[0;34m,\u001b[0m \u001b[0;34m'ch2_time'\u001b[0m\u001b[0;34m}\u001b[0m\u001b[0;34m)\u001b[0m\u001b[0;34m\u001b[0m\u001b[0;34m\u001b[0m\u001b[0m\n\u001b[0m",
      "\u001b[0;31mTypeError\u001b[0m: can not resolve method template call for 'Foreach'"
     ]
    }
   ],
   "source": [
    "RDF = ROOT.ROOT.RDataFrame\n",
    "df = RDF(\"subrange\", \"clean_data.root\")\n",
    "df_02 = df.Range(0, 1)\n",
    "df_02.Foreach(ROOT.plothist, {'ch2_sub', 'ch2_time'})\n"
   ]
  },
  {
   "cell_type": "code",
   "execution_count": null,
   "metadata": {},
   "outputs": [],
   "source": []
  },
  {
   "cell_type": "code",
   "execution_count": null,
   "metadata": {},
   "outputs": [],
   "source": []
  }
 ],
 "metadata": {
  "kernelspec": {
   "display_name": "Python 3",
   "language": "python",
   "name": "python3"
  },
  "language_info": {
   "codemirror_mode": {
    "name": "ipython",
    "version": 3
   },
   "file_extension": ".py",
   "mimetype": "text/x-python",
   "name": "python",
   "nbconvert_exporter": "python",
   "pygments_lexer": "ipython3",
   "version": "3.7.5"
  }
 },
 "nbformat": 4,
 "nbformat_minor": 4
}
